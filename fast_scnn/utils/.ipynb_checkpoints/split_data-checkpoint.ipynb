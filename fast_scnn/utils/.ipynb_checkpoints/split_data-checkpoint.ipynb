{
 "cells": [
  {
   "cell_type": "code",
   "execution_count": 1,
   "metadata": {},
   "outputs": [],
   "source": [
    "import random\n",
    "import os\n",
    "from shutil import copy2"
   ]
  },
  {
   "cell_type": "code",
   "execution_count": 2,
   "metadata": {},
   "outputs": [],
   "source": [
    "data_folder = '../data'\n",
    "split_folders = ['../data_train', '../data_val', '../data_test']\n",
    "sub_folders = ['images', 'labels']\n",
    "ratio = [0.3, 0.2, 0.5]            # Train : Val : Test\n",
    "assert sum(ratio) == 1.0, 'Sum of ratio not 1'"
   ]
  },
  {
   "cell_type": "code",
   "execution_count": 3,
   "metadata": {},
   "outputs": [],
   "source": [
    "def safe_mkdir(dir_path):\n",
    "    if not os.path.exists(dir_path):\n",
    "        os.makedirs(dir_path)\n",
    "\n",
    "def copy_img_files(file, src_dir, dst_dir, sub_dirs):\n",
    "    if file.endswith('.jpg'):\n",
    "        for subd in  sub_dirs:\n",
    "            copy2(os.path.join(src_dir, subd, file), os.path.join(dst_dir, subd))"
   ]
  },
  {
   "cell_type": "code",
   "execution_count": 4,
   "metadata": {},
   "outputs": [],
   "source": [
    "for splitd in split_folders:\n",
    "    for subd in sub_folders:\n",
    "        safe_mkdir(os.path.join(splitd, subd))"
   ]
  },
  {
   "cell_type": "code",
   "execution_count": 5,
   "metadata": {},
   "outputs": [],
   "source": [
    "random.seed(1337) # For reproducability of results"
   ]
  },
  {
   "cell_type": "code",
   "execution_count": 6,
   "metadata": {},
   "outputs": [],
   "source": [
    "files = os.listdir(os.path.join(data_folder, subd))\n",
    "for f in files:\n",
    "    rand = random.uniform(0, 1)\n",
    "    if rand >= ratio[1] + ratio[2]:\n",
    "        copy_img_files(f, data_folder, split_folders[0], sub_folders)\n",
    "    elif rand < ratio[1] + ratio[2] and rand > ratio[2]:\n",
    "        copy_img_files(f, data_folder, split_folders[1], sub_folders)\n",
    "    else:\n",
    "        copy_img_files(f, data_folder, split_folders[2], sub_folders)"
   ]
  },
  {
   "cell_type": "code",
   "execution_count": 7,
   "metadata": {},
   "outputs": [
    {
     "name": "stdout",
     "output_type": "stream",
     "text": [
      "No of files in parent dir : 900\n",
      "No of files in ./data_train : 265\n",
      "No of files in ./data_val : 201\n",
      "No of files in ./data_test : 434\n",
      "........................................................................\n",
      "Total number of files in child dirs = No of files in parent dir = 900\n"
     ]
    }
   ],
   "source": [
    "parent_count = len(os.listdir(os.path.join(data_folder, subd)))\n",
    "tot_child_count = 0\n",
    "print('No of files in parent dir :', parent_count)\n",
    "for splitd in split_folders:\n",
    "    count = len(os.listdir(os.path.join(splitd, subd)))\n",
    "    tot_child_count = tot_child_count + count\n",
    "    print('No of files in', splitd, ':', count)\n",
    "assert(parent_count == tot_child_count), 'Total number of files in child dirs != No of files in parent dir.'\n",
    "print('........................................................................')\n",
    "print('Total number of files in child dirs = No of files in parent dir =', parent_count)"
   ]
  }
 ],
 "metadata": {
  "kernelspec": {
   "display_name": "Python 3",
   "language": "python",
   "name": "python3"
  },
  "language_info": {
   "codemirror_mode": {
    "name": "ipython",
    "version": 3
   },
   "file_extension": ".py",
   "mimetype": "text/x-python",
   "name": "python",
   "nbconvert_exporter": "python",
   "pygments_lexer": "ipython3",
   "version": "3.7.3"
  }
 },
 "nbformat": 4,
 "nbformat_minor": 2
}
