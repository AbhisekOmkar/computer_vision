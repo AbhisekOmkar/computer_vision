{
 "cells": [
  {
   "cell_type": "code",
   "execution_count": 1,
   "metadata": {},
   "outputs": [],
   "source": [
    "import torch\n",
    "from torchvision import transforms, datasets, utils\n",
    "from PIL import Image\n",
    "\n",
    "import os\n",
    "import random\n",
    "import sys"
   ]
  },
  {
   "cell_type": "code",
   "execution_count": 2,
   "metadata": {},
   "outputs": [],
   "source": [
    "class IGVCDataset(torch.utils.data.Dataset):\n",
    "    def __init__(self, imgs_dir, labels_dir, transform=None):\n",
    "        self.imgs_dir = imgs_dir\n",
    "        self.labels_dir = labels_dir\n",
    "        self.transform = transform\n",
    "        self.files_names = os.listdir(imgs_dir)\n",
    "        \n",
    "    def __len__(self):\n",
    "        return len(self.files_names)\n",
    "    \n",
    "    def __getitem__(self, idx):\n",
    "        img_path = os.path.join(self.imgs_dir, self.files_names[idx])\n",
    "        label_path = os.path.join(self.labels_dir, self.files_names[idx])\n",
    "        \n",
    "        img = Image.open(img_path).convert('RGB')\n",
    "        label = Image.open(label_path).convert('1')\n",
    "        seed = random.randrange(sys.maxsize)\n",
    "        img = transforms.Grayscale(num_output_channels=1)(img)\n",
    "        if self.transform:\n",
    "            random.seed(seed)\n",
    "            img = self.transform(img)\n",
    "            random.seed(seed)\n",
    "            label = self.transform(label)\n",
    "        \n",
    "        img = transforms.Normalize(mean=[0.5], std=[0.5])(img)\n",
    "        return img, label"
   ]
  }
 ],
 "metadata": {
  "kernelspec": {
   "display_name": "Python 3",
   "language": "python",
   "name": "python3"
  },
  "language_info": {
   "codemirror_mode": {
    "name": "ipython",
    "version": 3
   },
   "file_extension": ".py",
   "mimetype": "text/x-python",
   "name": "python",
   "nbconvert_exporter": "python",
   "pygments_lexer": "ipython3",
   "version": "3.7.1"
  }
 },
 "nbformat": 4,
 "nbformat_minor": 2
}
