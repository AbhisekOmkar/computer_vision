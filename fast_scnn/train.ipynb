{
 "cells": [
  {
   "cell_type": "code",
   "execution_count": 1,
   "metadata": {},
   "outputs": [],
   "source": [
    "# Torch and related packages\n",
    "import torch\n",
    "from torchvision import transforms, datasets, utils\n",
    "import torch.nn.functional as F\n",
    "from PIL import Image\n",
    "\n",
    "# Math and plot utils\n",
    "import numpy as np\n",
    "import matplotlib.pyplot as plt\n",
    "\n",
    "# Useful utilities\n",
    "import os\n",
    "import time\n",
    "\n",
    "# Our model which we train\n",
    "from models.fast_scnn import FastSCNN\n",
    "\n",
    "# Custom Utilities\n",
    "from utils.dataset import IGVCDataset\n",
    "from utils.train_util import train_net\n",
    "from utils.common_utils import load_model, output_mask, save_model, img_to_mask"
   ]
  },
  {
   "cell_type": "code",
   "execution_count": 2,
   "metadata": {},
   "outputs": [
    {
     "name": "stdout",
     "output_type": "stream",
     "text": [
      "_CudaDeviceProperties(name='GeForce GTX 1070 with Max-Q Design', major=6, minor=1, total_memory=8119MB, multi_processor_count=16)\n",
      "cuda:0\n"
     ]
    }
   ],
   "source": [
    "gpuid = 0\n",
    "print(torch.cuda.get_device_properties(gpuid))\n",
    "device = torch.device(f'cuda:{gpuid}' if torch.cuda.is_available() else 'cpu')\n",
    "print(device)"
   ]
  },
  {
   "cell_type": "code",
   "execution_count": 3,
   "metadata": {},
   "outputs": [],
   "source": [
    "def show_lanes(image, label):\n",
    "    mean = np.array([0.5, 0.5, 0.5])\n",
    "    std = np.array([0.5, 0.5, 0.5])\n",
    "    image = image.numpy().transpose((1, 2, 0))\n",
    "    image = std * image + mean\n",
    "    image = np.clip(image, 0, 1)\n",
    "    label = label.numpy().transpose((1, 2, 0))\n",
    "    label = std * label + mean\n",
    "    label = np.clip(label, 0, 1)\n",
    "    plt.imshow(image, cmap='gray')\n",
    "    plt.imshow(label, cmap='jet', alpha=0.5)\n",
    "    plt.pause(0.001)"
   ]
  },
  {
   "cell_type": "code",
   "execution_count": 4,
   "metadata": {},
   "outputs": [],
   "source": [
    "train_transforms = transforms.Compose([\n",
    "    transforms.RandomHorizontalFlip(p=0.5),\n",
    "    transforms.RandomVerticalFlip(p=0.5),\n",
    "    transforms.RandomResizedCrop(size=240),\n",
    "    transforms.Resize((480, 640)),\n",
    "    transforms.ToTensor(),\n",
    "])\n",
    "\n",
    "test_transforms = transforms.Compose([\n",
    "    transforms.Resize((480, 640)),\n",
    "    transforms.ToTensor(),\n",
    "])"
   ]
  },
  {
   "cell_type": "code",
   "execution_count": 5,
   "metadata": {},
   "outputs": [
    {
     "name": "stdout",
     "output_type": "stream",
     "text": [
      "{'train': 339, 'val': 201, 'test': 434}\n"
     ]
    }
   ],
   "source": [
    "dataloaders = {}\n",
    "datasets = {}\n",
    "datasizes = {}\n",
    "\n",
    "datasets['train'] = IGVCDataset(imgs_dir='data_train/images', labels_dir='data_train/labels', transform=train_transforms)\n",
    "dataloaders['train'] = torch.utils.data.DataLoader(datasets['train'], batch_size=4, shuffle=True, num_workers=2)\n",
    "datasizes['train'] = len(datasets['train'])\n",
    "\n",
    "datasets['val'] = IGVCDataset(imgs_dir='data_val/images', labels_dir='data_val/labels', transform=test_transforms)\n",
    "dataloaders['val'] = torch.utils.data.DataLoader(datasets['val'], batch_size=4, shuffle=True, num_workers=2)\n",
    "datasizes['val'] = len(datasets['val'])\n",
    "\n",
    "datasets['test'] = IGVCDataset(imgs_dir='data_test/images', labels_dir='data_test/labels', transform=test_transforms)\n",
    "dataloaders['test'] = torch.utils.data.DataLoader(datasets['test'], batch_size=4, shuffle=False, num_workers=2)\n",
    "datasizes['test'] = len(datasets['test'])\n",
    "\n",
    "print(datasizes)"
   ]
  },
  {
   "cell_type": "code",
   "execution_count": 6,
   "metadata": {},
   "outputs": [],
   "source": [
    "model = FastSCNN(in_channel=1, num_classes=2).to(device)"
   ]
  },
  {
   "cell_type": "code",
   "execution_count": 7,
   "metadata": {},
   "outputs": [],
   "source": [
    "#load_model(model, './model')"
   ]
  },
  {
   "cell_type": "code",
   "execution_count": 8,
   "metadata": {},
   "outputs": [
    {
     "name": "stdout",
     "output_type": "stream",
     "text": [
      "Epoch 0/19\n",
      "----------\n",
      "train Loss: 0.5310 Acc: 164375.2330\n",
      "val Loss: 0.4515 Acc: 268323.7363\n",
      "\n",
      "Epoch 1/19\n",
      "----------\n",
      "train Loss: 0.4057 Acc: 250287.4012\n",
      "val Loss: 0.4185 Acc: 253714.0796\n",
      "\n",
      "Epoch 2/19\n",
      "----------\n",
      "train Loss: 0.3508 Acc: 253282.9823\n",
      "val Loss: 0.3826 Acc: 247650.1343\n",
      "\n",
      "Epoch 3/19\n",
      "----------\n",
      "train Loss: 0.3381 Acc: 256752.3835\n",
      "val Loss: 0.3849 Acc: 275240.3085\n",
      "\n",
      "Epoch 4/19\n",
      "----------\n",
      "train Loss: 0.3246 Acc: 254913.0000\n",
      "val Loss: 0.3351 Acc: 257845.3085\n",
      "\n",
      "Epoch 5/19\n",
      "----------\n",
      "train Loss: 0.3012 Acc: 258147.7817\n",
      "val Loss: 0.3226 Acc: 247306.6766\n",
      "\n",
      "Epoch 6/19\n",
      "----------\n",
      "train Loss: 0.2920 Acc: 260446.9882\n",
      "val Loss: 0.3016 Acc: 265936.8060\n",
      "\n",
      "Epoch 7/19\n",
      "----------\n",
      "train Loss: 0.2804 Acc: 261408.1888\n",
      "val Loss: 0.2929 Acc: 256300.2687\n",
      "\n",
      "Epoch 8/19\n",
      "----------\n",
      "train Loss: 0.2760 Acc: 262464.1504\n",
      "val Loss: 0.3370 Acc: 266758.6567\n",
      "\n",
      "Epoch 9/19\n",
      "----------\n",
      "train Loss: 0.2526 Acc: 263597.2478\n",
      "val Loss: 0.2692 Acc: 263387.1741\n",
      "\n",
      "Epoch 10/19\n",
      "----------\n",
      "train Loss: 0.2473 Acc: 262889.1917\n",
      "val Loss: 0.2667 Acc: 264927.2637\n",
      "\n",
      "Epoch 11/19\n",
      "----------\n",
      "train Loss: 0.2457 Acc: 264199.1032\n",
      "val Loss: 0.2561 Acc: 262797.4378\n",
      "\n",
      "Epoch 12/19\n",
      "----------\n",
      "train Loss: 0.2496 Acc: 265317.1563\n",
      "val Loss: 0.2584 Acc: 261914.7811\n",
      "\n",
      "Epoch 13/19\n",
      "----------\n",
      "train Loss: 0.2353 Acc: 266161.9440\n",
      "val Loss: 0.2566 Acc: 265370.3532\n",
      "\n",
      "Epoch 14/19\n",
      "----------\n",
      "train Loss: 0.2478 Acc: 266670.4838\n",
      "val Loss: 0.2515 Acc: 265346.5025\n",
      "\n",
      "Epoch 15/19\n",
      "----------\n",
      "train Loss: 0.2487 Acc: 266471.7729\n",
      "val Loss: 0.2719 Acc: 266828.9652\n",
      "\n",
      "Epoch 16/19\n",
      "----------\n",
      "train Loss: 0.2435 Acc: 266288.8791\n",
      "val Loss: 0.2541 Acc: 263842.4826\n",
      "\n",
      "Epoch 17/19\n",
      "----------\n",
      "train Loss: 0.2359 Acc: 266050.1298\n",
      "val Loss: 0.2489 Acc: 266945.5373\n",
      "\n",
      "Epoch 18/19\n",
      "----------\n",
      "train Loss: 0.2444 Acc: 267818.3510\n",
      "val Loss: 0.2497 Acc: 267468.8010\n",
      "\n",
      "Epoch 19/19\n",
      "----------\n",
      "train Loss: 0.2337 Acc: 267536.0885\n",
      "val Loss: 0.2508 Acc: 265267.4179\n",
      "\n",
      "Training complete in 3m 5s\n",
      "Best val Acc: 0.248946\n",
      "Done Training.\n",
      "Training Done.\n"
     ]
    }
   ],
   "source": [
    "optimizer_ft = torch.optim.SGD(model.parameters(), lr=0.006, momentum=0.9)\n",
    "exp_lr_scheduler = torch.optim.lr_scheduler.StepLR(optimizer_ft, step_size=10, gamma=0.1)\n",
    "criterion = torch.nn.CrossEntropyLoss(torch.tensor([1, 80], dtype=torch.float).to(device))\n",
    "\n",
    "model = train_net(model, dataloaders, datasizes, criterion, optimizer_ft, exp_lr_scheduler, device, num_epochs=20)\n",
    "print('Training Done.')"
   ]
  },
  {
   "cell_type": "code",
   "execution_count": 9,
   "metadata": {},
   "outputs": [
    {
     "ename": "TypeError",
     "evalue": "Invalid dimensions for image data",
     "output_type": "error",
     "traceback": [
      "\u001b[0;31m---------------------------------------------------------------------------\u001b[0m",
      "\u001b[0;31mTypeError\u001b[0m                                 Traceback (most recent call last)",
      "\u001b[0;32m<ipython-input-9-b863cc70d02b>\u001b[0m in \u001b[0;36m<module>\u001b[0;34m\u001b[0m\n\u001b[1;32m      4\u001b[0m \u001b[0mimg\u001b[0m\u001b[0;34m,\u001b[0m \u001b[0mlabel\u001b[0m \u001b[0;34m=\u001b[0m \u001b[0mdataiter\u001b[0m\u001b[0;34m.\u001b[0m\u001b[0mnext\u001b[0m\u001b[0;34m(\u001b[0m\u001b[0;34m)\u001b[0m\u001b[0;34m\u001b[0m\u001b[0m\n\u001b[1;32m      5\u001b[0m \u001b[0mimg\u001b[0m\u001b[0;34m,\u001b[0m \u001b[0mlabel\u001b[0m \u001b[0;34m=\u001b[0m \u001b[0mdataiter\u001b[0m\u001b[0;34m.\u001b[0m\u001b[0mnext\u001b[0m\u001b[0;34m(\u001b[0m\u001b[0;34m)\u001b[0m\u001b[0;34m\u001b[0m\u001b[0m\n\u001b[0;32m----> 6\u001b[0;31m \u001b[0mplt\u001b[0m\u001b[0;34m.\u001b[0m\u001b[0mimshow\u001b[0m\u001b[0;34m(\u001b[0m\u001b[0mimg\u001b[0m\u001b[0;34m[\u001b[0m\u001b[0;36m1\u001b[0m\u001b[0;34m]\u001b[0m\u001b[0;34m)\u001b[0m\u001b[0;34m\u001b[0m\u001b[0m\n\u001b[0m\u001b[1;32m      7\u001b[0m \u001b[0;31m#show_lanes(utils.make_grid(img), utils.make_grid(label))\u001b[0m\u001b[0;34m\u001b[0m\u001b[0;34m\u001b[0m\u001b[0m\n\u001b[1;32m      8\u001b[0m \u001b[0mplt\u001b[0m\u001b[0;34m.\u001b[0m\u001b[0mshow\u001b[0m\u001b[0;34m(\u001b[0m\u001b[0;34m)\u001b[0m\u001b[0;34m\u001b[0m\u001b[0m\n",
      "\u001b[0;32m~/miniconda3/envs/dl/lib/python3.7/site-packages/matplotlib/pyplot.py\u001b[0m in \u001b[0;36mimshow\u001b[0;34m(X, cmap, norm, aspect, interpolation, alpha, vmin, vmax, origin, extent, shape, filternorm, filterrad, imlim, resample, url, hold, data, **kwargs)\u001b[0m\n\u001b[1;32m   3203\u001b[0m                         \u001b[0mfilternorm\u001b[0m\u001b[0;34m=\u001b[0m\u001b[0mfilternorm\u001b[0m\u001b[0;34m,\u001b[0m \u001b[0mfilterrad\u001b[0m\u001b[0;34m=\u001b[0m\u001b[0mfilterrad\u001b[0m\u001b[0;34m,\u001b[0m\u001b[0;34m\u001b[0m\u001b[0m\n\u001b[1;32m   3204\u001b[0m                         \u001b[0mimlim\u001b[0m\u001b[0;34m=\u001b[0m\u001b[0mimlim\u001b[0m\u001b[0;34m,\u001b[0m \u001b[0mresample\u001b[0m\u001b[0;34m=\u001b[0m\u001b[0mresample\u001b[0m\u001b[0;34m,\u001b[0m \u001b[0murl\u001b[0m\u001b[0;34m=\u001b[0m\u001b[0murl\u001b[0m\u001b[0;34m,\u001b[0m \u001b[0mdata\u001b[0m\u001b[0;34m=\u001b[0m\u001b[0mdata\u001b[0m\u001b[0;34m,\u001b[0m\u001b[0;34m\u001b[0m\u001b[0m\n\u001b[0;32m-> 3205\u001b[0;31m                         **kwargs)\n\u001b[0m\u001b[1;32m   3206\u001b[0m     \u001b[0;32mfinally\u001b[0m\u001b[0;34m:\u001b[0m\u001b[0;34m\u001b[0m\u001b[0m\n\u001b[1;32m   3207\u001b[0m         \u001b[0max\u001b[0m\u001b[0;34m.\u001b[0m\u001b[0m_hold\u001b[0m \u001b[0;34m=\u001b[0m \u001b[0mwashold\u001b[0m\u001b[0;34m\u001b[0m\u001b[0m\n",
      "\u001b[0;32m~/miniconda3/envs/dl/lib/python3.7/site-packages/matplotlib/__init__.py\u001b[0m in \u001b[0;36minner\u001b[0;34m(ax, *args, **kwargs)\u001b[0m\n\u001b[1;32m   1853\u001b[0m                         \u001b[0;34m\"the Matplotlib list!)\"\u001b[0m \u001b[0;34m%\u001b[0m \u001b[0;34m(\u001b[0m\u001b[0mlabel_namer\u001b[0m\u001b[0;34m,\u001b[0m \u001b[0mfunc\u001b[0m\u001b[0;34m.\u001b[0m\u001b[0m__name__\u001b[0m\u001b[0;34m)\u001b[0m\u001b[0;34m,\u001b[0m\u001b[0;34m\u001b[0m\u001b[0m\n\u001b[1;32m   1854\u001b[0m                         RuntimeWarning, stacklevel=2)\n\u001b[0;32m-> 1855\u001b[0;31m             \u001b[0;32mreturn\u001b[0m \u001b[0mfunc\u001b[0m\u001b[0;34m(\u001b[0m\u001b[0max\u001b[0m\u001b[0;34m,\u001b[0m \u001b[0;34m*\u001b[0m\u001b[0margs\u001b[0m\u001b[0;34m,\u001b[0m \u001b[0;34m**\u001b[0m\u001b[0mkwargs\u001b[0m\u001b[0;34m)\u001b[0m\u001b[0;34m\u001b[0m\u001b[0m\n\u001b[0m\u001b[1;32m   1856\u001b[0m \u001b[0;34m\u001b[0m\u001b[0m\n\u001b[1;32m   1857\u001b[0m         inner.__doc__ = _add_data_doc(inner.__doc__,\n",
      "\u001b[0;32m~/miniconda3/envs/dl/lib/python3.7/site-packages/matplotlib/axes/_axes.py\u001b[0m in \u001b[0;36mimshow\u001b[0;34m(self, X, cmap, norm, aspect, interpolation, alpha, vmin, vmax, origin, extent, shape, filternorm, filterrad, imlim, resample, url, **kwargs)\u001b[0m\n\u001b[1;32m   5485\u001b[0m                               resample=resample, **kwargs)\n\u001b[1;32m   5486\u001b[0m \u001b[0;34m\u001b[0m\u001b[0m\n\u001b[0;32m-> 5487\u001b[0;31m         \u001b[0mim\u001b[0m\u001b[0;34m.\u001b[0m\u001b[0mset_data\u001b[0m\u001b[0;34m(\u001b[0m\u001b[0mX\u001b[0m\u001b[0;34m)\u001b[0m\u001b[0;34m\u001b[0m\u001b[0m\n\u001b[0m\u001b[1;32m   5488\u001b[0m         \u001b[0mim\u001b[0m\u001b[0;34m.\u001b[0m\u001b[0mset_alpha\u001b[0m\u001b[0;34m(\u001b[0m\u001b[0malpha\u001b[0m\u001b[0;34m)\u001b[0m\u001b[0;34m\u001b[0m\u001b[0m\n\u001b[1;32m   5489\u001b[0m         \u001b[0;32mif\u001b[0m \u001b[0mim\u001b[0m\u001b[0;34m.\u001b[0m\u001b[0mget_clip_path\u001b[0m\u001b[0;34m(\u001b[0m\u001b[0;34m)\u001b[0m \u001b[0;32mis\u001b[0m \u001b[0;32mNone\u001b[0m\u001b[0;34m:\u001b[0m\u001b[0;34m\u001b[0m\u001b[0m\n",
      "\u001b[0;32m~/miniconda3/envs/dl/lib/python3.7/site-packages/matplotlib/image.py\u001b[0m in \u001b[0;36mset_data\u001b[0;34m(self, A)\u001b[0m\n\u001b[1;32m    651\u001b[0m         if not (self._A.ndim == 2\n\u001b[1;32m    652\u001b[0m                 or self._A.ndim == 3 and self._A.shape[-1] in [3, 4]):\n\u001b[0;32m--> 653\u001b[0;31m             \u001b[0;32mraise\u001b[0m \u001b[0mTypeError\u001b[0m\u001b[0;34m(\u001b[0m\u001b[0;34m\"Invalid dimensions for image data\"\u001b[0m\u001b[0;34m)\u001b[0m\u001b[0;34m\u001b[0m\u001b[0m\n\u001b[0m\u001b[1;32m    654\u001b[0m \u001b[0;34m\u001b[0m\u001b[0m\n\u001b[1;32m    655\u001b[0m         \u001b[0;32mif\u001b[0m \u001b[0mself\u001b[0m\u001b[0;34m.\u001b[0m\u001b[0m_A\u001b[0m\u001b[0;34m.\u001b[0m\u001b[0mndim\u001b[0m \u001b[0;34m==\u001b[0m \u001b[0;36m3\u001b[0m\u001b[0;34m:\u001b[0m\u001b[0;34m\u001b[0m\u001b[0m\n",
      "\u001b[0;31mTypeError\u001b[0m: Invalid dimensions for image data"
     ]
    },
    {
     "data": {
      "image/png": "[encoded data removed]",
      "text/plain": [
       "<Figure size 432x288 with 1 Axes>"
      ]
     },
     "metadata": {
      "needs_background": "light"
     },
     "output_type": "display_data"
    }
   ],
   "source": [
    "dataiter = iter(dataloaders['train'])\n",
    "img, label = dataiter.next()\n",
    "img, label = dataiter.next()\n",
    "img, label = dataiter.next()\n",
    "img, label = dataiter.next()\n",
    "plt.imshow(img[1])\n",
    "#show_lanes(utils.make_grid(img), utils.make_grid(label))\n",
    "plt.show()\n",
    "plt.imshow(img[2].permute(1,2,0))\n",
    "#show_lanes(utils.make_grid(img), utils.make_grid(label))\n",
    "plt.show()"
   ]
  },
  {
   "cell_type": "code",
   "execution_count": 10,
   "metadata": {},
   "outputs": [
    {
     "data": {
      "image/png": "[encoded data removed]",
      "text/plain": [
       "<Figure size 432x288 with 1 Axes>"
      ]
     },
     "metadata": {
      "needs_background": "light"
     },
     "output_type": "display_data"
    },
    {
     "data": {
      "image/png": "[encoded data removed]",
      "text/plain": [
       "<Figure size 432x288 with 1 Axes>"
      ]
     },
     "metadata": {
      "needs_background": "light"
     },
     "output_type": "display_data"
    }
   ],
   "source": [
    "with torch.no_grad():\n",
    "    pred = output_mask(img, model, device)\n",
    "    plt.imshow(pred[1])\n",
    "    plt.show()\n",
    "    plt.imshow(pred[2])\n",
    "    plt.show()\n",
    "    #plt.imshow(img[0].detach().cpu().permute(1, 2, 0))"
   ]
  },
  {
   "cell_type": "code",
   "execution_count": 11,
   "metadata": {},
   "outputs": [
    {
     "name": "stdout",
     "output_type": "stream",
     "text": [
      "Results are as following. Tested on GTX 1070 Max-Q.\n",
      "Time for 400 Images :  4.64046573638916 seconds\n",
      "FPS (GTX 1070 Max Q) :  86.19824447001479 fps\n",
      "Latency :  0.15143084526062012 seconds\n"
     ]
    }
   ],
   "source": [
    "with torch.no_grad():\n",
    "    start_time = time.time()\n",
    "    dataiter = iter(dataloaders['test'])\n",
    "    for i in range(100):\n",
    "        if i == 0:\n",
    "            lat_1 = time.time()\n",
    "        img, label = dataiter.next()\n",
    "        pred = output_mask(img, model, device)\n",
    "        if i == 0:\n",
    "            lat_2 = time.time()\n",
    "    end_time = time.time()\n",
    "\n",
    "print('Results are as following. Tested on GTX 1070 Max-Q.')\n",
    "print('Time for 400 Images : ', end_time - start_time, 'seconds')\n",
    "print('FPS (GTX 1070 Max Q) : ', 400/(end_time - start_time), 'fps')\n",
    "print('Latency : ', lat_2 - lat_1, 'seconds')"
   ]
  },
  {
   "cell_type": "code",
   "execution_count": 12,
   "metadata": {},
   "outputs": [
    {
     "name": "stdout",
     "output_type": "stream",
     "text": [
      "Model saved to  ./model_gray_2\n"
     ]
    }
   ],
   "source": [
    "save_model(model, './model_gray_2')"
   ]
  },
  {
   "cell_type": "code",
   "execution_count": 13,
   "metadata": {},
   "outputs": [],
   "source": [
    "test_transforms = transforms.Compose([\n",
    "    transforms.Resize((480, 640)),\n",
    "    transforms.Grayscale(num_output_channels=1),\n",
    "    transforms.ToTensor(),\n",
    "    transforms.Normalize(mean=[0.5], \n",
    "                         std=[0.5])\n",
    "])"
   ]
  },
  {
   "cell_type": "code",
   "execution_count": 14,
   "metadata": {},
   "outputs": [],
   "source": [
    "mask = img_to_mask('web_images/input/4.jpg', model, test_transforms, device)"
   ]
  },
  {
   "cell_type": "code",
   "execution_count": 15,
   "metadata": {},
   "outputs": [
    {
     "data": {
      "image/png": "[encoded data removed]",
      "text/plain": [
       "<Figure size 432x288 with 1 Axes>"
      ]
     },
     "metadata": {
      "needs_background": "light"
     },
     "output_type": "display_data"
    }
   ],
   "source": [
    "plt.imshow(mask[0])\n",
    "plt.show()"
   ]
  },
  {
   "cell_type": "code",
   "execution_count": null,
   "metadata": {},
   "outputs": [],
   "source": []
  }
 ],
 "metadata": {
  "kernelspec": {
   "display_name": "Python 3",
   "language": "python",
   "name": "python3"
  },
  "language_info": {
   "codemirror_mode": {
    "name": "ipython",
    "version": 3
   },
   "file_extension": ".py",
   "mimetype": "text/x-python",
   "name": "python",
   "nbconvert_exporter": "python",
   "pygments_lexer": "ipython3",
   "version": "3.7.0"
  }
 },
 "nbformat": 4,
 "nbformat_minor": 2
}
